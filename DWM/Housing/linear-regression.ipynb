{
 "cells": [
  {
   "cell_type": "code",
   "execution_count": 7,
   "metadata": {},
   "outputs": [
    {
     "name": "stdout",
     "output_type": "stream",
     "text": [
      "N is 10\n",
      "Sum of x and y are 2000 & 8.35\n",
      "Mean of x and y are 200.0 & 0.835\n",
      "Estimated coefficients:\n",
      "b_0 = 0.0692424242424241 \n",
      "b_1 = 0.0038287878787878794\n",
      "Sigma coefficients:\n",
      "sigx = 114.89125293076057 \n",
      "sigy = 0.46232564281034644\n",
      "R squared value is 0.9053167998967901\n",
      "Equation of line is y = 0.0692424242424241 + 0.0038287878787878794*x\n",
      "When velocity is 240 evapouration coeffiecient is 0.9881515151515152\n"
     ]
    }
   ],
   "source": [
    "import numpy as np \n",
    "\n",
    "def estimate_coef(x, y): \n",
    "    # number of observations/points \n",
    "    n = np.size(x) \n",
    "    print(f\"N is {n}\")\n",
    "\n",
    "    s_x, s_y = np.sum(x), np.sum(y)\n",
    "    print(f\"Sum of x and y are {s_x} & {s_y}\")\n",
    "    # mean of x and y vector \n",
    "    m_x, m_y = np.mean(x), np.mean(y) \n",
    "    print(f\"Mean of x and y are {m_x} & {m_y}\")\n",
    "\n",
    "    # calculating cross-deviation and deviation about x \n",
    "    SS_xy = np.sum(y*x) - n*m_y*m_x \n",
    "    SS_xx = np.sum(x*x) - n*m_x*m_x \n",
    "\n",
    "    # calculating regression coefficients \n",
    "    b1 = SS_xy / SS_xx \n",
    "    b0 = m_y - b1*m_x \n",
    "\n",
    "    print(\"Estimated coefficients:\\nb_0 = {} \\nb_1 = {}\".format(b0, b1))\n",
    "\n",
    "    sig_x =  np.sqrt((np.sum(x*x) - n*m_x*m_x ) / n)\n",
    "    sig_y =  np.sqrt((np.sum(y*y) - n*m_y*m_y )/n)\n",
    "    print(\"Sigma coefficients:\\nsigx = {} \\nsigy = {}\".format(sig_x, sig_y))\n",
    "\n",
    "    r = (np.sum(y*x) - n*m_y*m_x) / (n * sig_x * sig_y) \n",
    "    r2 = r ** 2\n",
    "    print(f\"R squared value is {r2}\")\n",
    "\n",
    "    return(b0, b1) \n",
    "\n",
    "\n",
    "def main(): \n",
    "    # observations \n",
    "    x = np.array([20,60,100,140,180,220,260,300,340,380]) \n",
    "    y = np.array([0.18, 0.37, 0.35, 0.78, 0.56, 0.75, 1.18, 1.36, 1.17, 1.65]) \n",
    "\n",
    "    # estimating coefficients \n",
    "    b = estimate_coef(x, y) \n",
    "    print(f\"Equation of line is y = {b[0]} + {b[1]}*x\")\n",
    "    y = b[0] + b[1]*240\n",
    "    print(f\"When velocity is 240 evapouration coeffiecient is {y}\")\n",
    "\n",
    "if __name__ == \"__main__\": \n",
    "    main() \n"
   ]
  },
  {
   "cell_type": "code",
   "execution_count": 76,
   "metadata": {},
   "outputs": [
    {
     "data": {
      "text/plain": [
       "['size', 'land', 'rooms', 'granite', 'extra_bathroom']"
      ]
     },
     "execution_count": 76,
     "metadata": {},
     "output_type": "execute_result"
    }
   ],
   "source": [
    "from scipy.io import arff\n",
    "import pandas as pd\n",
    "import pylab\n",
    "import scipy.stats as stats\n",
    "\n",
    "\n",
    "data = arff.loadarff('house.arff')\n",
    "df = pd.DataFrame(data[0])\n",
    "\n",
    "columns = list(df.columns[0:5])\n",
    "columns"
   ]
  },
  {
   "cell_type": "code",
   "execution_count": 77,
   "metadata": {},
   "outputs": [
    {
     "data": {
      "text/html": [
       "<div>\n",
       "<style scoped>\n",
       "    .dataframe tbody tr th:only-of-type {\n",
       "        vertical-align: middle;\n",
       "    }\n",
       "\n",
       "    .dataframe tbody tr th {\n",
       "        vertical-align: top;\n",
       "    }\n",
       "\n",
       "    .dataframe thead th {\n",
       "        text-align: right;\n",
       "    }\n",
       "</style>\n",
       "<table border=\"1\" class=\"dataframe\">\n",
       "  <thead>\n",
       "    <tr style=\"text-align: right;\">\n",
       "      <th></th>\n",
       "      <th>size</th>\n",
       "      <th>land</th>\n",
       "      <th>rooms</th>\n",
       "      <th>granite</th>\n",
       "      <th>extra_bathroom</th>\n",
       "      <th>price</th>\n",
       "    </tr>\n",
       "  </thead>\n",
       "  <tbody>\n",
       "    <tr>\n",
       "      <th>0</th>\n",
       "      <td>0.655588</td>\n",
       "      <td>-0.701594</td>\n",
       "      <td>1.322876</td>\n",
       "      <td>-0.866025</td>\n",
       "      <td>-1.581139</td>\n",
       "      <td>324500.0</td>\n",
       "    </tr>\n",
       "    <tr>\n",
       "      <th>1</th>\n",
       "      <td>0.190182</td>\n",
       "      <td>-0.465958</td>\n",
       "      <td>0.000000</td>\n",
       "      <td>1.154701</td>\n",
       "      <td>0.632456</td>\n",
       "      <td>466000.0</td>\n",
       "    </tr>\n",
       "    <tr>\n",
       "      <th>2</th>\n",
       "      <td>1.483576</td>\n",
       "      <td>-0.442040</td>\n",
       "      <td>0.000000</td>\n",
       "      <td>-0.866025</td>\n",
       "      <td>0.632456</td>\n",
       "      <td>425900.0</td>\n",
       "    </tr>\n",
       "    <tr>\n",
       "      <th>3</th>\n",
       "      <td>-1.211446</td>\n",
       "      <td>0.639585</td>\n",
       "      <td>-1.322876</td>\n",
       "      <td>1.154701</td>\n",
       "      <td>-1.581139</td>\n",
       "      <td>387120.0</td>\n",
       "    </tr>\n",
       "    <tr>\n",
       "      <th>4</th>\n",
       "      <td>-1.536147</td>\n",
       "      <td>-0.590863</td>\n",
       "      <td>-1.322876</td>\n",
       "      <td>-0.866025</td>\n",
       "      <td>0.632456</td>\n",
       "      <td>312100.0</td>\n",
       "    </tr>\n",
       "  </tbody>\n",
       "</table>\n",
       "</div>"
      ],
      "text/plain": [
       "       size      land     rooms   granite  extra_bathroom     price\n",
       "0  0.655588 -0.701594  1.322876 -0.866025       -1.581139  324500.0\n",
       "1  0.190182 -0.465958  0.000000  1.154701        0.632456  466000.0\n",
       "2  1.483576 -0.442040  0.000000 -0.866025        0.632456  425900.0\n",
       "3 -1.211446  0.639585 -1.322876  1.154701       -1.581139  387120.0\n",
       "4 -1.536147 -0.590863 -1.322876 -0.866025        0.632456  312100.0"
      ]
     },
     "execution_count": 77,
     "metadata": {},
     "output_type": "execute_result"
    }
   ],
   "source": [
    "from sklearn.preprocessing import StandardScaler\n",
    "scaler = StandardScaler()\n",
    "df[columns] = scaler.fit_transform(df[columns].to_numpy())\n",
    "df.head()"
   ]
  },
  {
   "cell_type": "code",
   "execution_count": 78,
   "metadata": {},
   "outputs": [
    {
     "data": {
      "image/png": "[encoded data removed]",
      "text/plain": [
       "<Figure size 432x288 with 1 Axes>"
      ]
     },
     "metadata": {
      "needs_background": "light"
     },
     "output_type": "display_data"
    }
   ],
   "source": [
    "stats.probplot(df['size'], dist=\"norm\", plot=pylab)\n",
    "stats.probplot(df['land'], dist=\"norm\", plot=pylab)\n",
    "stats.probplot(df['rooms'], dist=\"norm\", plot=pylab)\n",
    "stats.probplot(df['granite'], dist=\"norm\", plot=pylab)\n",
    "stats.probplot(df['extra_bathroom'], dist=\"norm\", plot=pylab)\n",
    "pylab.show()"
   ]
  },
  {
   "cell_type": "code",
   "execution_count": 79,
   "metadata": {},
   "outputs": [],
   "source": [
    "from sklearn.linear_model import LinearRegression\n",
    "from sklearn.metrics import mean_squared_error, r2_score\n",
    "train = df[df.columns[0:5]]\n",
    "test = df[df.columns[5]]"
   ]
  },
  {
   "cell_type": "code",
   "execution_count": 80,
   "metadata": {},
   "outputs": [],
   "source": [
    "lr = LinearRegression()\n",
    "lr.fit(train, test)\n",
    "preds = lr.predict(train)"
   ]
  },
  {
   "cell_type": "code",
   "execution_count": 81,
   "metadata": {},
   "outputs": [
    {
     "data": {
      "text/plain": [
       "array([328483.93639079, 468595.17201605, 427173.47336172, 383136.06360921,\n",
       "       321456.63715632, 604388.76437474, 368785.95309117])"
      ]
     },
     "execution_count": 81,
     "metadata": {},
     "output_type": "execute_result"
    }
   ],
   "source": [
    "preds"
   ]
  },
  {
   "cell_type": "code",
   "execution_count": 83,
   "metadata": {},
   "outputs": [
    {
     "name": "stdout",
     "output_type": "stream",
     "text": [
      "Coefficients: \n",
      " [28717.41497208 40716.00224253  9780.74783933 39361.33726844\n",
      " 34912.69195355]\n",
      "Mean squared error: 49020834.71\n",
      "r squared error: 0.99\n"
     ]
    }
   ],
   "source": [
    "# The coefficients\n",
    "print('Coefficients: \\n', lr.coef_)\n",
    "# The mean squared error\n",
    "print('Mean squared error: %.2f'\n",
    "      % mean_squared_error(test, preds))\n",
    "# The coefficient of determination: 1 is perfect prediction\n",
    "print('r squared error: %.2f'\n",
    "      % r2_score(test, preds))"
   ]
  },
  {
   "cell_type": "code",
   "execution_count": 84,
   "metadata": {},
   "outputs": [
    {
     "data": {
      "text/plain": [
       "Text(0, 0.5, 'Residual')"
      ]
     },
     "execution_count": 84,
     "metadata": {},
     "output_type": "execute_result"
    },
    {
     "data": {
      "image/png": "[encoded data removed]",
      "text/plain": [
       "<Figure size 432x288 with 1 Axes>"
      ]
     },
     "metadata": {
      "needs_background": "light"
     },
     "output_type": "display_data"
    }
   ],
   "source": [
    "residuals = test - preds\n",
    "import matplotlib.pyplot as plt\n",
    "plt.plot(train,residuals, 'o', color='darkblue')\n",
    "plt.title(\"Residual Plot\")\n",
    "plt.xlabel(\"Independent Variable\")\n",
    "plt.ylabel(\"Residual\")"
   ]
  },
  {
   "cell_type": "code",
   "execution_count": 85,
   "metadata": {},
   "outputs": [
    {
     "data": {
      "text/plain": [
       "0    -3983.936391\n",
       "1    -2595.172016\n",
       "2    -1273.473362\n",
       "3     3983.936391\n",
       "4    -9356.637156\n",
       "5    -1388.764375\n",
       "6    14614.046909\n",
       "Name: price, dtype: float64"
      ]
     },
     "execution_count": 85,
     "metadata": {},
     "output_type": "execute_result"
    }
   ],
   "source": [
    "residuals"
   ]
  },
  {
   "cell_type": "code",
   "execution_count": 63,
   "metadata": {},
   "outputs": [
    {
     "data": {
      "text/html": [
       "<div>\n",
       "<style scoped>\n",
       "    .dataframe tbody tr th:only-of-type {\n",
       "        vertical-align: middle;\n",
       "    }\n",
       "\n",
       "    .dataframe tbody tr th {\n",
       "        vertical-align: top;\n",
       "    }\n",
       "\n",
       "    .dataframe thead th {\n",
       "        text-align: right;\n",
       "    }\n",
       "</style>\n",
       "<table border=\"1\" class=\"dataframe\">\n",
       "  <thead>\n",
       "    <tr style=\"text-align: right;\">\n",
       "      <th></th>\n",
       "      <th>league</th>\n",
       "      <th>division</th>\n",
       "      <th>position_in_final_league_standings_in_1986</th>\n",
       "      <th>team</th>\n",
       "      <th>number_of_wins_in_1986</th>\n",
       "      <th>number_of_losses_in_1986</th>\n",
       "      <th>attendance_for_home_games_in_1986</th>\n",
       "      <th>attendance_for_away_games_in_1986</th>\n",
       "      <th>1987_average_salary</th>\n",
       "    </tr>\n",
       "  </thead>\n",
       "  <tbody>\n",
       "    <tr>\n",
       "      <th>0</th>\n",
       "      <td>b'N'</td>\n",
       "      <td>b'E'</td>\n",
       "      <td>b'1'</td>\n",
       "      <td>b'N.Y.'</td>\n",
       "      <td>108.0</td>\n",
       "      <td>54.0</td>\n",
       "      <td>2767601.0</td>\n",
       "      <td>2176615.0</td>\n",
       "      <td>526899.0</td>\n",
       "    </tr>\n",
       "    <tr>\n",
       "      <th>1</th>\n",
       "      <td>b'N'</td>\n",
       "      <td>b'E'</td>\n",
       "      <td>b'2'</td>\n",
       "      <td>b'Phi.'</td>\n",
       "      <td>86.0</td>\n",
       "      <td>75.0</td>\n",
       "      <td>1933335.0</td>\n",
       "      <td>1721147.0</td>\n",
       "      <td>540930.0</td>\n",
       "    </tr>\n",
       "    <tr>\n",
       "      <th>2</th>\n",
       "      <td>b'N'</td>\n",
       "      <td>b'E'</td>\n",
       "      <td>b'3'</td>\n",
       "      <td>b'St.L.'</td>\n",
       "      <td>79.0</td>\n",
       "      <td>82.0</td>\n",
       "      <td>2471974.0</td>\n",
       "      <td>1695738.0</td>\n",
       "      <td>445049.0</td>\n",
       "    </tr>\n",
       "    <tr>\n",
       "      <th>3</th>\n",
       "      <td>b'N'</td>\n",
       "      <td>b'E'</td>\n",
       "      <td>b'4'</td>\n",
       "      <td>b'Mon.'</td>\n",
       "      <td>78.0</td>\n",
       "      <td>83.0</td>\n",
       "      <td>1128981.0</td>\n",
       "      <td>1926119.0</td>\n",
       "      <td>312959.0</td>\n",
       "    </tr>\n",
       "    <tr>\n",
       "      <th>4</th>\n",
       "      <td>b'N'</td>\n",
       "      <td>b'E'</td>\n",
       "      <td>b'5'</td>\n",
       "      <td>b'Chi.'</td>\n",
       "      <td>70.0</td>\n",
       "      <td>90.0</td>\n",
       "      <td>1859102.0</td>\n",
       "      <td>1879706.0</td>\n",
       "      <td>556256.0</td>\n",
       "    </tr>\n",
       "  </tbody>\n",
       "</table>\n",
       "</div>"
      ],
      "text/plain": [
       "  league division position_in_final_league_standings_in_1986      team  \\\n",
       "0   b'N'     b'E'                                       b'1'   b'N.Y.'   \n",
       "1   b'N'     b'E'                                       b'2'   b'Phi.'   \n",
       "2   b'N'     b'E'                                       b'3'  b'St.L.'   \n",
       "3   b'N'     b'E'                                       b'4'   b'Mon.'   \n",
       "4   b'N'     b'E'                                       b'5'   b'Chi.'   \n",
       "\n",
       "   number_of_wins_in_1986  number_of_losses_in_1986  \\\n",
       "0                   108.0                      54.0   \n",
       "1                    86.0                      75.0   \n",
       "2                    79.0                      82.0   \n",
       "3                    78.0                      83.0   \n",
       "4                    70.0                      90.0   \n",
       "\n",
       "   attendance_for_home_games_in_1986  attendance_for_away_games_in_1986  \\\n",
       "0                          2767601.0                          2176615.0   \n",
       "1                          1933335.0                          1721147.0   \n",
       "2                          2471974.0                          1695738.0   \n",
       "3                          1128981.0                          1926119.0   \n",
       "4                          1859102.0                          1879706.0   \n",
       "\n",
       "   1987_average_salary  \n",
       "0             526899.0  \n",
       "1             540930.0  \n",
       "2             445049.0  \n",
       "3             312959.0  \n",
       "4             556256.0  "
      ]
     },
     "execution_count": 63,
     "metadata": {},
     "output_type": "execute_result"
    }
   ],
   "source": [
    "from scipy.io import arff\n",
    "import pandas as pd\n",
    "import pylab\n",
    "import scipy.stats as stats\n",
    "\n",
    "\n",
    "data = arff.loadarff('../baseball/baseball.arff')\n",
    "df = pd.DataFrame(data[0])\n",
    "\n",
    "df.head()"
   ]
  },
  {
   "cell_type": "code",
   "execution_count": 64,
   "metadata": {},
   "outputs": [
    {
     "data": {
      "text/plain": [
       "['number_of_wins_in_1986',\n",
       " 'number_of_losses_in_1986',\n",
       " 'attendance_for_home_games_in_1986',\n",
       " 'attendance_for_away_games_in_1986',\n",
       " '1987_average_salary']"
      ]
     },
     "execution_count": 64,
     "metadata": {},
     "output_type": "execute_result"
    }
   ],
   "source": [
    "columns = list(df.columns[4:])\n",
    "columns"
   ]
  },
  {
   "cell_type": "code",
   "execution_count": 65,
   "metadata": {},
   "outputs": [
    {
     "data": {
      "text/html": [
       "<div>\n",
       "<style scoped>\n",
       "    .dataframe tbody tr th:only-of-type {\n",
       "        vertical-align: middle;\n",
       "    }\n",
       "\n",
       "    .dataframe tbody tr th {\n",
       "        vertical-align: top;\n",
       "    }\n",
       "\n",
       "    .dataframe thead th {\n",
       "        text-align: right;\n",
       "    }\n",
       "</style>\n",
       "<table border=\"1\" class=\"dataframe\">\n",
       "  <thead>\n",
       "    <tr style=\"text-align: right;\">\n",
       "      <th></th>\n",
       "      <th>league</th>\n",
       "      <th>division</th>\n",
       "      <th>position_in_final_league_standings_in_1986</th>\n",
       "      <th>team</th>\n",
       "      <th>number_of_wins_in_1986</th>\n",
       "      <th>number_of_losses_in_1986</th>\n",
       "      <th>attendance_for_home_games_in_1986</th>\n",
       "      <th>attendance_for_away_games_in_1986</th>\n",
       "      <th>1987_average_salary</th>\n",
       "    </tr>\n",
       "  </thead>\n",
       "  <tbody>\n",
       "    <tr>\n",
       "      <th>0</th>\n",
       "      <td>b'N'</td>\n",
       "      <td>b'E'</td>\n",
       "      <td>b'1'</td>\n",
       "      <td>b'N.Y.'</td>\n",
       "      <td>2.697094</td>\n",
       "      <td>-2.682870</td>\n",
       "      <td>1.725739</td>\n",
       "      <td>1.960320</td>\n",
       "      <td>1.049035</td>\n",
       "    </tr>\n",
       "    <tr>\n",
       "      <th>1</th>\n",
       "      <td>b'N'</td>\n",
       "      <td>b'E'</td>\n",
       "      <td>b'2'</td>\n",
       "      <td>b'Phi.'</td>\n",
       "      <td>0.511913</td>\n",
       "      <td>-0.584235</td>\n",
       "      <td>0.194832</td>\n",
       "      <td>-0.594708</td>\n",
       "      <td>1.177250</td>\n",
       "    </tr>\n",
       "    <tr>\n",
       "      <th>2</th>\n",
       "      <td>b'N'</td>\n",
       "      <td>b'E'</td>\n",
       "      <td>b'3'</td>\n",
       "      <td>b'St.L.'</td>\n",
       "      <td>-0.183372</td>\n",
       "      <td>0.115310</td>\n",
       "      <td>1.183253</td>\n",
       "      <td>-0.737244</td>\n",
       "      <td>0.301093</td>\n",
       "    </tr>\n",
       "    <tr>\n",
       "      <th>3</th>\n",
       "      <td>b'N'</td>\n",
       "      <td>b'E'</td>\n",
       "      <td>b'4'</td>\n",
       "      <td>b'Mon.'</td>\n",
       "      <td>-0.282698</td>\n",
       "      <td>0.215245</td>\n",
       "      <td>-1.281186</td>\n",
       "      <td>0.555119</td>\n",
       "      <td>-0.905941</td>\n",
       "    </tr>\n",
       "    <tr>\n",
       "      <th>4</th>\n",
       "      <td>b'N'</td>\n",
       "      <td>b'E'</td>\n",
       "      <td>b'5'</td>\n",
       "      <td>b'Chi.'</td>\n",
       "      <td>-1.077309</td>\n",
       "      <td>0.914789</td>\n",
       "      <td>0.058612</td>\n",
       "      <td>0.294757</td>\n",
       "      <td>1.317299</td>\n",
       "    </tr>\n",
       "  </tbody>\n",
       "</table>\n",
       "</div>"
      ],
      "text/plain": [
       "  league division position_in_final_league_standings_in_1986      team  \\\n",
       "0   b'N'     b'E'                                       b'1'   b'N.Y.'   \n",
       "1   b'N'     b'E'                                       b'2'   b'Phi.'   \n",
       "2   b'N'     b'E'                                       b'3'  b'St.L.'   \n",
       "3   b'N'     b'E'                                       b'4'   b'Mon.'   \n",
       "4   b'N'     b'E'                                       b'5'   b'Chi.'   \n",
       "\n",
       "   number_of_wins_in_1986  number_of_losses_in_1986  \\\n",
       "0                2.697094                 -2.682870   \n",
       "1                0.511913                 -0.584235   \n",
       "2               -0.183372                  0.115310   \n",
       "3               -0.282698                  0.215245   \n",
       "4               -1.077309                  0.914789   \n",
       "\n",
       "   attendance_for_home_games_in_1986  attendance_for_away_games_in_1986  \\\n",
       "0                           1.725739                           1.960320   \n",
       "1                           0.194832                          -0.594708   \n",
       "2                           1.183253                          -0.737244   \n",
       "3                          -1.281186                           0.555119   \n",
       "4                           0.058612                           0.294757   \n",
       "\n",
       "   1987_average_salary  \n",
       "0             1.049035  \n",
       "1             1.177250  \n",
       "2             0.301093  \n",
       "3            -0.905941  \n",
       "4             1.317299  "
      ]
     },
     "execution_count": 65,
     "metadata": {},
     "output_type": "execute_result"
    }
   ],
   "source": [
    "from sklearn.preprocessing import StandardScaler\n",
    "scaler = StandardScaler()\n",
    "df[columns] = scaler.fit_transform(df[columns].to_numpy())\n",
    "df.head()"
   ]
  },
  {
   "cell_type": "code",
   "execution_count": 66,
   "metadata": {},
   "outputs": [
    {
     "data": {
      "image/png": "[encoded data removed]",
      "text/plain": [
       "<Figure size 432x288 with 1 Axes>"
      ]
     },
     "metadata": {
      "needs_background": "light"
     },
     "output_type": "display_data"
    }
   ],
   "source": [
    "stats.probplot(df['number_of_wins_in_1986'], dist=\"norm\", plot=pylab)\n",
    "stats.probplot(df['number_of_losses_in_1986'], dist=\"norm\", plot=pylab)\n",
    "stats.probplot(df['attendance_for_home_games_in_1986'], dist=\"norm\", plot=pylab)\n",
    "stats.probplot(df['attendance_for_away_games_in_1986'], dist=\"norm\", plot=pylab)\n",
    "stats.probplot(df['1987_average_salary'], dist=\"norm\", plot=pylab)\n",
    "pylab.show()"
   ]
  },
  {
   "cell_type": "code",
   "execution_count": null,
   "metadata": {},
   "outputs": [],
   "source": []
  }
 ],
 "metadata": {
  "kernelspec": {
   "display_name": "Python 3",
   "language": "python",
   "name": "python3"
  },
  "language_info": {
   "codemirror_mode": {
    "name": "ipython",
    "version": 3
   },
   "file_extension": ".py",
   "mimetype": "text/x-python",
   "name": "python",
   "nbconvert_exporter": "python",
   "pygments_lexer": "ipython3",
   "version": "3.6.6"
  }
 },
 "nbformat": 4,
 "nbformat_minor": 4
}
